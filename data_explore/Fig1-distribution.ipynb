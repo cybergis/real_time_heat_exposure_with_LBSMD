{
 "cells": [
  {
   "cell_type": "code",
   "execution_count": 4,
   "metadata": {},
   "outputs": [],
   "source": [
    "import os\n",
    "import geopandas as gpd\n",
    "import json\n",
    "from shapely.geometry import Polygon, Point, MultiPolygon\n",
    "import re\n",
    "import matplotlib.pyplot as plt\n",
    "import pandas as pd\n",
    "import matplotlib.colors as mcolors\n",
    "import numpy as np"
   ]
  },
  {
   "cell_type": "code",
   "execution_count": 7,
   "metadata": {},
   "outputs": [
    {
     "data": {
      "text/plain": [
       "['250000-tweets-2021-12-25_15-59-57.json',\n",
       " '250000-tweets-2021-12-25_08-56-00.json',\n",
       " '250000-tweets-2021-12-25_06-37-05.json',\n",
       " 'Untitled.ipynb',\n",
       " '250000-tweets-2021-12-25_03-40-20.json',\n",
       " '250000-tweets-2021-12-25_00-25-44.json',\n",
       " '250000-tweets-2021-12-25_13-23-51.json',\n",
       " '.ipynb_checkpoints',\n",
       " '250000-tweets-2021-12-25_21-28-06.json',\n",
       " '250000-tweets-2021-12-25_18-37-56.json',\n",
       " '250000-tweets-2021-12-25_11-04-10.json']"
      ]
     },
     "execution_count": 7,
     "metadata": {},
     "output_type": "execute_result"
    }
   ],
   "source": [
    "filelist = os.listdir('./')\n",
    "filelist"
   ]
  },
  {
   "cell_type": "code",
   "execution_count": 14,
   "metadata": {},
   "outputs": [],
   "source": [
    "loc = []\n",
    "for filename in filelist:\n",
    "    if(filename[-1]!='n'):\n",
    "        continue\n",
    "    f = open(filename)\n",
    "    data = json.load(f)\n",
    "    for i in range(0, len(data)):\n",
    "        try:\n",
    "            ##Need to deal with case when the shapefile is too big\n",
    "            poly = data[i]['place']['bounding_box'][\"coordinates\"][0]\n",
    "            text = data[i][\"text\"]\n",
    "            lon = [p[0] for p in poly]\n",
    "            lat = [p[1] for p in poly]\n",
    "            centroid = (sum(lon) / len(poly), sum(lat) / len(poly))\n",
    "            loc.append(centroid)\n",
    "        except:\n",
    "            ## no geographical location\n",
    "            pass\n",
    "    # Closing file\n",
    "    f.close()"
   ]
  },
  {
   "cell_type": "code",
   "execution_count": 18,
   "metadata": {},
   "outputs": [
    {
     "data": {
      "text/plain": [
       "46.819937"
      ]
     },
     "execution_count": 18,
     "metadata": {},
     "output_type": "execute_result"
    }
   ],
   "source": [
    "loc[0][0]"
   ]
  },
  {
   "cell_type": "code",
   "execution_count": 19,
   "metadata": {},
   "outputs": [],
   "source": [
    "df = pd.DataFrame(loc, columns = ['lon', 'lat'])"
   ]
  },
  {
   "cell_type": "code",
   "execution_count": 21,
   "metadata": {},
   "outputs": [],
   "source": [
    "df.to_csv(\"vis.csv\")"
   ]
  },
  {
   "cell_type": "code",
   "execution_count": 22,
   "metadata": {},
   "outputs": [
    {
     "data": {
      "text/plain": [
       "2248913"
      ]
     },
     "execution_count": 22,
     "metadata": {},
     "output_type": "execute_result"
    }
   ],
   "source": [
    "len(loc)"
   ]
  },
  {
   "cell_type": "code",
   "execution_count": null,
   "metadata": {},
   "outputs": [],
   "source": []
  }
 ],
 "metadata": {
  "kernelspec": {
   "display_name": "Python 3",
   "language": "python",
   "name": "python3"
  },
  "language_info": {
   "codemirror_mode": {
    "name": "ipython",
    "version": 3
   },
   "file_extension": ".py",
   "mimetype": "text/x-python",
   "name": "python",
   "nbconvert_exporter": "python",
   "pygments_lexer": "ipython3",
   "version": "3.8.5"
  }
 },
 "nbformat": 4,
 "nbformat_minor": 4
}
